{
  "cells": [
    {
      "cell_type": "code",
      "execution_count": 27,
      "metadata": {
        "id": "cTweBeFoYocx"
      },
      "outputs": [],
      "source": [
        "### IMPORTING IMPORTANT LIBRARIES\n",
        "\n",
        "import kagglehub\n",
        "\n",
        "import numpy as np\n",
        "import pandas as pd\n",
        "import matplotlib.pyplot as plt\n",
        "import seaborn as sns"
      ]
    },
    {
      "cell_type": "code",
      "execution_count": 28,
      "metadata": {
        "id": "shIorPQRA9I5"
      },
      "outputs": [],
      "source": [
        "student_health = pd.read_csv('Student Mental health.csv')\n",
        "path = kagglehub.dataset_download(\"lainguyn123/student-performance-factors\")\n",
        "student_performance = pd.read_csv(path + '/StudentPerformanceFactors.csv')"
      ]
    },
    {
      "cell_type": "code",
      "execution_count": null,
      "metadata": {
        "colab": {
          "base_uri": "https://localhost:8080/",
          "height": 226
        },
        "id": "wXooGyitSrSJ",
        "outputId": "3af0b89e-2bb6-4443-db8b-22e5eaa867b8"
      },
      "outputs": [],
      "source": [
        "student_performance.head()"
      ]
    },
    {
      "cell_type": "code",
      "execution_count": null,
      "metadata": {
        "colab": {
          "base_uri": "https://localhost:8080/",
          "height": 328
        },
        "id": "aaelbm67cjMV",
        "outputId": "997c7cc3-a356-40f6-9f67-0ade86e8cd53"
      },
      "outputs": [],
      "source": [
        "student_health.head()"
      ]
    },
    {
      "cell_type": "code",
      "execution_count": null,
      "metadata": {
        "colab": {
          "base_uri": "https://localhost:8080/",
          "height": 206
        },
        "id": "iNvoL1lfgAtU",
        "outputId": "917c5e2f-9b4c-4513-dfb6-42701c5d8f81"
      },
      "outputs": [],
      "source": [
        "# Define bins and labels\n",
        "bins = [0, 1.99, 2.99, 4.00]\n",
        "labels = ['0-1.99', '2.00-2.99', '3.00-4.00']\n",
        "\n",
        "# Bin the numeric column in df2\n",
        "student_performance['CGPA'] = pd.cut(student_performance['Exam_Score'] / 25, bins=bins, labels=labels, include_lowest=True)\n",
        "\n",
        "# Renaming columns\n",
        "student_health.rename(columns={'What is your CGPA?': 'CGPA'}, inplace=True)\n",
        "student_health.rename(columns={'What is your course?': 'Course'}, inplace=True)\n",
        "student_health.rename(columns={'Do you have Depression?': 'Depression'}, inplace=True)\n",
        "student_health.rename(columns={'Do you have Anxiety?': 'Anxiety'}, inplace=True)\n",
        "student_health.rename(columns={'Do you have Panic attack?': 'Panic attack'}, inplace=True)\n",
        "student_health.rename(columns={'Your current year of Study': 'Year of Study'}, inplace=True)\n",
        "student_health.rename(columns={'Did you seek any specialist for a treatment?': 'Seeked Help'}, inplace=True)\n",
        "\n",
        "# Mapping old intervals to new intervals\n",
        "interval_mapping = {\n",
        "    '0 - 1.99': '0-1.99',\n",
        "    '2.00 - 2.49': '2.00-2.99',\n",
        "    '2.50 - 2.99': '2.00-2.99',\n",
        "    '3.00 - 3.49': '3.00-4.00',\n",
        "    '3.50 - 4.00': '3.00-4.00'\n",
        "}\n",
        "\n",
        "# Apply mapping to the column\n",
        "student_health['CGPA'] = student_health['CGPA'].map(interval_mapping)\n",
        "\n",
        "# Cleaning the Year of Study column:\n",
        "student_health['Year of Study'] = student_health['Year of Study'].str.lower().str.replace('year ', '').str.strip()\n",
        "\n",
        "student_health.head()"
      ]
    },
    {
      "cell_type": "code",
      "execution_count": null,
      "metadata": {
        "colab": {
          "base_uri": "https://localhost:8080/",
          "height": 486
        },
        "id": "3Yt1Q0_teJN2",
        "outputId": "b99988cb-d3c4-4f09-8c55-dba96ea80a60"
      },
      "outputs": [],
      "source": [
        "from matplotlib import pyplot as plt\n",
        "import seaborn as sns\n",
        "student_performance.groupby('CGPA').size().plot(kind='barh', color=sns.palettes.mpl_palette('Dark2'))\n",
        "plt.gca().spines[['top', 'right',]].set_visible(False)"
      ]
    },
    {
      "cell_type": "code",
      "execution_count": null,
      "metadata": {
        "colab": {
          "base_uri": "https://localhost:8080/",
          "height": 486
        },
        "id": "TbqnJjeihsct",
        "outputId": "320c75e0-2e99-4e4e-f3f4-4b8d18c3c37f"
      },
      "outputs": [],
      "source": [
        "from matplotlib import pyplot as plt\n",
        "import seaborn as sns\n",
        "student_performance.groupby('CGPA').size().plot(kind='barh', color=sns.palettes.mpl_palette('Dark2'))\n",
        "plt.gca().spines[['top', 'right',]].set_visible(False)"
      ]
    },
    {
      "cell_type": "code",
      "execution_count": null,
      "metadata": {
        "colab": {
          "base_uri": "https://localhost:8080/",
          "height": 377
        },
        "id": "u1sbeVQHgrCU",
        "outputId": "f7b5914f-5f22-46c9-a7a4-1da6f44c950c"
      },
      "outputs": [],
      "source": [
        "# Merge dataframes\n",
        "df = pd.merge(student_performance, student_health, on='CGPA', how='inner')\n",
        "# Display the result\n",
        "df.head()"
      ]
    },
    {
      "cell_type": "code",
      "execution_count": 35,
      "metadata": {
        "id": "c7gCAIC4bxBv"
      },
      "outputs": [],
      "source": [
        "df.drop(['Timestamp', 'Choose your gender', 'Gender', 'Course', 'Exam_Score', 'CGPA'], axis=1, inplace=True)\n",
        "df.dropna(inplace=True)"
      ]
    },
    {
      "cell_type": "code",
      "execution_count": null,
      "metadata": {
        "colab": {
          "base_uri": "https://localhost:8080/"
        },
        "id": "OzP_3_uskwK3",
        "outputId": "4e0252da-4eba-4f77-9249-c321fa7d7327"
      },
      "outputs": [],
      "source": [
        "unique_vales = df.apply(pd.Series.unique)\n",
        "print(unique_vales)"
      ]
    },
    {
      "cell_type": "code",
      "execution_count": null,
      "metadata": {
        "colab": {
          "base_uri": "https://localhost:8080/",
          "height": 868
        },
        "id": "kmwPJ2sQlSi5",
        "outputId": "5e6c4d39-5bb6-4274-d8f6-33e4da4a6d58"
      },
      "outputs": [],
      "source": [
        "# Columns to convert\n",
        "cols_to_convert = ['Depression', 'Anxiety', 'Panic attack', 'Seeked Help', 'Extracurricular_Activities', 'Internet_Access', 'Marital status', 'Learning_Disabilities']\n",
        "\n",
        "# Mapping dictionary\n",
        "mapping = {'Yes': True, 'No': False}\n",
        "\n",
        "# Loop through the columns and apply the mapping\n",
        "for col in cols_to_convert:\n",
        "    if col in df.columns:  # Check if the column exists in the DataFrame\n",
        "      df[col] = df[col].map(mapping)\n",
        "\n",
        "df.dtypes"
      ]
    },
    {
      "cell_type": "code",
      "execution_count": null,
      "metadata": {
        "colab": {
          "base_uri": "https://localhost:8080/",
          "height": 868
        },
        "id": "ZiSbEPYamFdo",
        "outputId": "5148dd16-6ed8-46d4-f9b1-c4fc5f8658ae"
      },
      "outputs": [],
      "source": [
        "# Columns to convert to categorical\n",
        "categorical_cols = ['Parental_Involvement', 'Motivation_Level', 'Access_to_Resources', 'Year of Study', 'Distance_from_Home', 'Family_Income', 'Teacher_Quality', 'Peer_Influence', 'Parental_Education_Level']\n",
        "\n",
        "# Convert columns to categorical\n",
        "for col in categorical_cols:\n",
        "    if col in df.columns:\n",
        "        df[col] = pd.Categorical(df[col])\n",
        "\n",
        "df.dtypes"
      ]
    },
    {
      "cell_type": "code",
      "execution_count": null,
      "metadata": {
        "colab": {
          "base_uri": "https://localhost:8080/",
          "height": 868
        },
        "id": "cRw5hyNCUI7l",
        "outputId": "c2a87814-1f25-4efa-b7e0-271acf8eba21"
      },
      "outputs": [],
      "source": [
        "# Converting School Type to Boolean (Public : False, Private: True)\n",
        "df['School_Type'] = df['School_Type'].map({'Public': False, 'Private': True})\n",
        "df.rename(columns={'School_Type': 'Private_School'}, inplace=True)\n",
        "df.dtypes"
      ]
    },
    {
      "cell_type": "code",
      "execution_count": null,
      "metadata": {
        "colab": {
          "base_uri": "https://localhost:8080/",
          "height": 1000
        },
        "id": "S5vhuHgw7tJz",
        "outputId": "fcc54395-10c1-41db-b004-f13da02bd1d4"
      },
      "outputs": [],
      "source": [
        "import matplotlib.pyplot as plt\n",
        "import seaborn as sns\n",
        "from sklearn.metrics import confusion_matrix\n",
        "\n",
        "for col in ['Anxiety', 'Panic attack', 'Seeked Help', 'Extracurricular_Activities', 'Internet_Access', 'Marital status', 'Learning_Disabilities', 'Private_School']:\n",
        "    # Create confusion matrix\n",
        "    cm = confusion_matrix(df['Depression'], df[col])\n",
        "\n",
        "    # Plotting the confusion matrix\n",
        "    plt.figure(figsize=(6, 6))\n",
        "    sns.heatmap(cm, annot=True, fmt='d', cmap='Blues', cbar=False,\n",
        "                xticklabels=['False', 'True'], yticklabels=['False', 'True'])\n",
        "    plt.xlabel(col)\n",
        "    plt.ylabel('Depression')\n",
        "    plt.title(f'Confusion Matrix: Depression vs. {col}')\n",
        "\n",
        "    # Move y-axis labels to the right\n",
        "    plt.yticks(rotation=0)\n",
        "    plt.gca().yaxis.tick_right()\n",
        "    plt.show()"
      ]
    },
    {
      "cell_type": "code",
      "execution_count": null,
      "metadata": {
        "colab": {
          "base_uri": "https://localhost:8080/",
          "height": 1000
        },
        "id": "EbnXKQ-i-q80",
        "outputId": "6e826e09-0608-48df-a0a3-fa71184518dc"
      },
      "outputs": [],
      "source": [
        "for col in ['Parental_Involvement', 'Motivation_Level', 'Access_to_Resources', 'Year of Study', 'Distance_from_Home', 'Family_Income', 'Teacher_Quality', 'Peer_Influence', 'Parental_Education_Level']:\n",
        "    plt.figure(figsize=(8, 6))\n",
        "    sns.countplot(x=col, hue='Depression', data=df)\n",
        "    plt.title(f'Depression vs. {col}')\n",
        "    plt.xlabel(col)\n",
        "    plt.ylabel('Count')\n",
        "    plt.xticks(rotation=45, ha='right')  # Rotate x-axis labels for better readability\n",
        "    plt.tight_layout() # Adjust layout to prevent labels from overlapping\n",
        "    plt.show()"
      ]
    },
    {
      "cell_type": "code",
      "execution_count": null,
      "metadata": {
        "colab": {
          "base_uri": "https://localhost:8080/",
          "height": 1000
        },
        "id": "8-Qg4CEN-2F5",
        "outputId": "1ae53fac-3db7-4c27-fd2c-c699a4d094fb"
      },
      "outputs": [],
      "source": [
        "numeric_cols = df.select_dtypes(include=np.number).columns\n",
        "\n",
        "for col in numeric_cols:\n",
        "    plt.figure(figsize=(8, 6))\n",
        "    plt.hist(df[df['Depression'] == False][col], alpha=0.5, label='No Depression')\n",
        "    plt.hist(df[df['Depression'] == True][col], alpha=0.5, label='Depression')\n",
        "    plt.title(f'Distribution of {col} by Depression')\n",
        "    plt.xlabel(col)\n",
        "    plt.ylabel('Frequency')\n",
        "    plt.legend()\n",
        "    plt.show()"
      ]
    },
    {
      "cell_type": "code",
      "execution_count": 43,
      "metadata": {
        "id": "RycL0uP_bW9z"
      },
      "outputs": [],
      "source": [
        "selected_columns = ['Depression', 'Marital status', 'Parental_Involvement', 'Access_to_Resources',\n",
        "                    'Year of Study', 'Teacher_Quality', 'Peer_Influence', 'Age']\n",
        "df_original = df\n",
        "df = df_original[selected_columns]"
      ]
    },
    {
      "cell_type": "code",
      "execution_count": 44,
      "metadata": {
        "id": "BTiH1QZsZhDl"
      },
      "outputs": [],
      "source": [
        "# Converting the categorical values to numerical values\n",
        "from sklearn.linear_model import LogisticRegression\n",
        "from sklearn.preprocessing import OneHotEncoder\n",
        "from sklearn.compose import ColumnTransformer\n",
        "from sklearn.pipeline import Pipeline\n",
        "\n",
        "# Define the categorical columns to be one-hot encoded\n",
        "def preprocess(df, classifier, **kwargs):\n",
        "  bool_list = df.select_dtypes(include=['bool']).columns\n",
        "  cat_list = df.select_dtypes(include=['category']).columns\n",
        "  num_list = df.select_dtypes(include=['int64', 'float64']).columns\n",
        "\n",
        "  preprocessor = ColumnTransformer(\n",
        "      transformers=[\n",
        "          ('bool', 'passthrough', bool_list),\n",
        "          ('cat', OneHotEncoder(), cat_list),\n",
        "          ('num', 'passthrough', num_list)\n",
        "      ])\n",
        "\n",
        "  classifier_instance = classifier(**kwargs)\n",
        "\n",
        "  model = Pipeline([\n",
        "      ('preprocessor', preprocessor),\n",
        "      ('classifier', classifier_instance)\n",
        "  ])\n",
        "\n",
        "  return model"
      ]
    },
    {
      "cell_type": "code",
      "execution_count": 45,
      "metadata": {
        "id": "kBnarHIixaQ1"
      },
      "outputs": [],
      "source": [
        "from sklearn.model_selection import train_test_split\n",
        "\n",
        "# Splitting input and target variable\n",
        "X = df.drop(columns=['Depression'], axis=1)\n",
        "y = df['Depression']\n",
        "\n",
        "# Split the data into training and testing sets\n",
        "X_train, X_test, y_train, y_test = train_test_split(X, y, test_size=0.2)"
      ]
    },
    {
      "cell_type": "code",
      "execution_count": null,
      "metadata": {
        "colab": {
          "base_uri": "https://localhost:8080/",
          "height": 628
        },
        "id": "TsFM2U_sHPS6",
        "outputId": "e1f4cb5c-537e-4d37-da8e-9aaa298915ee"
      },
      "outputs": [],
      "source": [
        "from sklearn.metrics import accuracy_score, classification_report, confusion_matrix\n",
        "import seaborn as sns\n",
        "import matplotlib.pyplot as plt\n",
        "\n",
        "# Train the Logistic Regression model\n",
        "logreg_model = preprocess(X, LogisticRegression, max_iter=10000)\n",
        "logreg_model.fit(X_train, y_train)\n",
        "\n",
        "# Make predictions on the test set\n",
        "y_pred = logreg_model.predict(X_test)\n",
        "\n",
        "# Evaluate the model\n",
        "accuracy = accuracy_score(y_test, y_pred)\n",
        "print(f\"Accuracy: {accuracy}\")\n",
        "print(classification_report(y_test, y_pred))\n",
        "cm = confusion_matrix(y_test, y_pred)\n",
        "sns.heatmap(cm, annot=True, fmt='d')\n",
        "plt.xlabel('Predicted')\n",
        "plt.ylabel('Actual')\n",
        "plt.show()"
      ]
    },
    {
      "cell_type": "code",
      "execution_count": null,
      "metadata": {
        "colab": {
          "base_uri": "https://localhost:8080/",
          "height": 651
        },
        "id": "XQtIz1FAlumB",
        "outputId": "f4703162-8e6a-43c6-e6ab-f01d11ba057a"
      },
      "outputs": [],
      "source": [
        "from sklearn.naive_bayes import MultinomialNB\n",
        "\n",
        "# Train the Naive Bayes model\n",
        "nb_model = preprocess(X, MultinomialNB)\n",
        "nb_model.fit(X_train, y_train)\n",
        "\n",
        "# Make predictions on the test set\n",
        "y_pred_nb = nb_model.predict(X_test)\n",
        "\n",
        "# Evaluate the model\n",
        "accuracy_nb = accuracy_score(y_test, y_pred_nb)\n",
        "print(f\"Naive Bayes Accuracy: {accuracy_nb}\")\n",
        "print(classification_report(y_test, y_pred_nb))\n",
        "\n",
        "cm_nb = confusion_matrix(y_test, y_pred_nb)\n",
        "sns.heatmap(cm_nb, annot=True, fmt='d')\n",
        "plt.xlabel('Predicted')\n",
        "plt.ylabel('Actual')\n",
        "plt.title('Confusion Matrix for Naive Bayes')\n",
        "plt.show()"
      ]
    },
    {
      "cell_type": "code",
      "execution_count": null,
      "metadata": {
        "colab": {
          "base_uri": "https://localhost:8080/",
          "height": 634
        },
        "id": "Cgy56_KXgMRJ",
        "outputId": "8cc2454e-4cc2-4fc0-e121-c4c727b24f6a"
      },
      "outputs": [],
      "source": [
        "from sklearn.ensemble import RandomForestClassifier\n",
        "\n",
        "# Train the Random Forest model\n",
        "rf_model = preprocess(X, RandomForestClassifier, n_estimators=200)\n",
        "rf_model.fit(X_train, y_train)\n",
        "\n",
        "# Make predictions on the test set\n",
        "y_pred = rf_model.predict(X_test)\n",
        "\n",
        "# Evaluate the model\n",
        "accuracy = accuracy_score(y_test, y_pred)\n",
        "print(f\"Accuracy: {accuracy}\")\n",
        "print(classification_report(y_test, y_pred))\n",
        "cm = confusion_matrix(y_test, y_pred)\n",
        "sns.heatmap(cm, annot=True, fmt='d')\n",
        "plt.xlabel('Predicted')\n",
        "plt.ylabel('Actual')\n",
        "plt.show()"
      ]
    },
    {
      "cell_type": "code",
      "execution_count": null,
      "metadata": {
        "colab": {
          "base_uri": "https://localhost:8080/",
          "height": 472
        },
        "id": "4g5JP96zQcFG",
        "outputId": "5cee4366-861e-4efe-cd43-2e3ae37c3c0d"
      },
      "outputs": [],
      "source": [
        "from sklearn.neighbors import KNeighborsClassifier\n",
        "from sklearn.metrics import accuracy_score\n",
        "\n",
        "error_rates = []\n",
        "for n in range(1, 11):\n",
        "    # Train the KNN Model\n",
        "    knn = preprocess(X, KNeighborsClassifier, n_neighbors=n)\n",
        "    knn.fit(X_train, y_train)\n",
        "\n",
        "    # Make predictions on the test set\n",
        "    y_pred = knn.predict(X_test)\n",
        "    error = 1 - accuracy_score(y_test, y_pred)\n",
        "    error_rates.append(error)\n",
        "\n",
        "plt.plot(range(1, 11), error_rates, marker='o')\n",
        "plt.title('Error Rate vs. N Value')\n",
        "plt.xlabel('K')\n",
        "plt.ylabel('Error Rate')\n",
        "plt.show()"
      ]
    },
    {
      "cell_type": "code",
      "execution_count": null,
      "metadata": {
        "colab": {
          "base_uri": "https://localhost:8080/",
          "height": 633
        },
        "id": "aaRIKlJbif3O",
        "outputId": "5da208a0-ff32-4753-9c5a-db93134e7844"
      },
      "outputs": [],
      "source": [
        "from sklearn.neighbors import KNeighborsClassifier\n",
        "\n",
        "# Train the KNN model\n",
        "knn_model = preprocess(X, KNeighborsClassifier, n_neighbors=3)\n",
        "knn_model.fit(X_train, y_train)\n",
        "\n",
        "# Make predictions on the test set\n",
        "y_pred = knn_model.predict(X_test)\n",
        "\n",
        "# Evaluate the model\n",
        "accuracy = accuracy_score(y_test, y_pred)\n",
        "print(f\"Accuracy: {accuracy}\")\n",
        "print(classification_report(y_test, y_pred))\n",
        "cm = confusion_matrix(y_test, y_pred)\n",
        "sns.heatmap(cm, annot=True, fmt='d')\n",
        "plt.xlabel('Predicted')\n",
        "plt.ylabel('Actual')\n",
        "plt.show()"
      ]
    }
  ],
  "metadata": {
    "colab": {
      "provenance": []
    },
    "kernelspec": {
      "display_name": "Python 3",
      "name": "python3"
    },
    "language_info": {
      "name": "python"
    }
  },
  "nbformat": 4,
  "nbformat_minor": 0
}
